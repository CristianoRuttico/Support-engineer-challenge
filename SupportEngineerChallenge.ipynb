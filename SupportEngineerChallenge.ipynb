{
  "nbformat": 4,
  "nbformat_minor": 0,
  "metadata": {
    "colab": {
      "provenance": []
    },
    "kernelspec": {
      "name": "python3",
      "display_name": "Python 3"
    },
    "language_info": {
      "name": "python"
    }
  },
  "cells": [
    {
      "cell_type": "markdown",
      "source": [
        "#Es1"
      ],
      "metadata": {
        "id": "GzCRbWzj5qUf"
      }
    },
    {
      "cell_type": "code",
      "source": [
        "import os\n",
        "import string\n",
        "import random"
      ],
      "metadata": {
        "id": "gZRUKloi5KKD"
      },
      "execution_count": null,
      "outputs": []
    },
    {
      "cell_type": "code",
      "source": [
        "#crezione directory random\n",
        "os.makedirs('randomtxt')\n",
        "#creazione lista lettere alfabeto\n",
        "alphabet = list(string.ascii_lowercase)"
      ],
      "metadata": {
        "id": "tTLnQNV95LPK"
      },
      "execution_count": null,
      "outputs": []
    },
    {
      "cell_type": "code",
      "source": [
        "# create a text file for writing\n",
        "for i in range(0,11):\n",
        "  #lista con 4 lettere a caso alfabeto\n",
        "  cho = random.choices(alphabet, k=4)\n",
        "  #concatenazione lettere trovate in una stringa\n",
        "  cho = cho[0] +cho[1] +cho[2] +cho[3]\n",
        "  #creazione random files con costituiti da cho al cui interno scrivo ''This is first line''\n",
        "  with open(r'randomtxt/{}.txt'.format(cho), 'w') as fp:\n",
        "    fp.write('This is first line')"
      ],
      "metadata": {
        "id": "1CDjwvYp5TR2"
      },
      "execution_count": null,
      "outputs": []
    },
    {
      "cell_type": "code",
      "source": [
        "#funzione che apre file prima in mod read, legge il contenuto\n",
        "#sostituisce una stringa con l'altra e sovrascrive un file con il nuovo contenuto.\n",
        "def strsub(filepath, old: string, new: string):\n",
        "    with open(filepath, 'r') as file:\n",
        "        cont = file.read()\n",
        "    cont = cont.replace(old, new)\n",
        "    with open(filepath, 'w') as file:\n",
        "        file.write(cont)\n",
        "\n",
        "#funzione che cicla all'interno directories e file e per ogni file\n",
        "#chiama la funzione di strsub che permette la string sub all'interno del file.\n",
        "def dirref(dir, old: string, new: string):\n",
        "    for root, dirs, files in os.walk(dir):\n",
        "        for f in files:\n",
        "            filepath = os.path.join(root, f)\n",
        "            strsub(filepath, old, new)\n",
        "\n",
        "#chiamata funzione\n",
        "dirref('randomtxt', 'tab', 'maa')"
      ],
      "metadata": {
        "id": "_Dxr2r5UYLoW"
      },
      "execution_count": null,
      "outputs": []
    },
    {
      "cell_type": "markdown",
      "source": [
        "#Es2"
      ],
      "metadata": {
        "id": "0aDp2xX-KWYv"
      }
    },
    {
      "cell_type": "code",
      "source": [
        "dir = './files'\n",
        "#creo dizionario\n",
        "diz = {}\n",
        "#ciclo utilizzando os.walk\n",
        "for root, dirs, files in os.walk(dir):\n",
        "  #ciclo sui file\n",
        "  for fi in files:\n",
        "    #apro i file\n",
        "    with open(os.path.join(root, '{}').format(fi)) as f:\n",
        "      #leggo i file\n",
        "      first_line = f.readline()\n",
        "      #se shebang non è nel dizionario aggiungo la chiave con valore 1\n",
        "      if first_line not in diz:\n",
        "        diz[first_line] = 1\n",
        "      #se shebang è nel dizionario aumento il count per quello specifico shebang\n",
        "      else:\n",
        "        diz[first_line] = diz[first_line] + 1"
      ],
      "metadata": {
        "id": "L-QyfRpUp582"
      },
      "execution_count": null,
      "outputs": []
    },
    {
      "cell_type": "code",
      "source": [
        "#print dei risultati\n",
        "for interpreter, count in diz.items():\n",
        "    print(f\"{interpreter}: {count}\")"
      ],
      "metadata": {
        "colab": {
          "base_uri": "https://localhost:8080/"
        },
        "id": "EtWetDKLKxkF",
        "outputId": "c421975d-bfd1-4802-a4c5-ea1d6bfe6d43"
      },
      "execution_count": null,
      "outputs": [
        {
          "output_type": "stream",
          "name": "stdout",
          "text": [
            "#!/usr/bin/env python: 2\n",
            "#!/usr/bin/perl -a: 1\n",
            "#!/bin/bash: 1\n"
          ]
        }
      ]
    },
    {
      "cell_type": "markdown",
      "source": [
        "#Es3"
      ],
      "metadata": {
        "id": "EysnHBBBLRnp"
      }
    },
    {
      "cell_type": "code",
      "source": [
        "#2 di mattina, domenica\n",
        "#cartella ''folder'' viene compressa in ''my_folder.tar.gz''\n",
        "#se operazione va a buon fine usa il comando scp per trasferire\n",
        "#la cartella appena compressa tramite protocollo ssh al server remoto\n",
        "#in particolare la cartella my_folder.tar.gz andrà a essere copiata all'interno della cartella backup del server remoto\n",
        "0 2 * * 7 tar -czf /tmp/my_folder.tar.gz /home/user/folder && scp /tmp/my_folder.tar.gz user@192.168.1.100:/backup/"
      ],
      "metadata": {
        "id": "w_NuOvF2YEAC"
      },
      "execution_count": null,
      "outputs": []
    }
  ]
}